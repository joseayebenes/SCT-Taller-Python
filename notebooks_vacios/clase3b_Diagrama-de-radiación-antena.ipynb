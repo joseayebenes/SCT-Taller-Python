{
 "cells": [
  {
   "cell_type": "markdown",
   "metadata": {},
   "source": [
    "<img src=\"../static/IEEE_logo.png\" alt=\"IEEE\" style=\"width: 300px;\"/>"
   ]
  },
  {
   "cell_type": "markdown",
   "metadata": {},
   "source": [
    "# Diagrama de radiación de una Antena Cilíndrica"
   ]
  },
  {
   "cell_type": "markdown",
   "metadata": {},
   "source": [
    "###### ![](../static/antena_cilindrica.png) <h6 align=\"right\">__Fuente:__ _Antenas, A. Cardama, L. Jofre, J.M. Rius, S. Blanch, M. Ferrrando_<div>"
   ]
  },
  {
   "cell_type": "markdown",
   "metadata": {},
   "source": [
    "_Aunque no te lo creas, __con lo que hemos visto hasta ahora eres capaz de hacer grandes cosas__. Vale sí, un dipolo no es gran  Antena, pero si lo hacemos en Python... Echa un vistazo a la figura ¿no está mal, no? algo así intentaremos conseguir al final de esta clase._\n",
    "![](../static/diagrama.png)\n",
    "\n",
    "_Como no se trata de aprender (o reaprender) sobre Antenas, te daremos las funciones matemáticas y los pasos a seguir así como la estructura del programa. Tú sólo tienes que preocuparte de programar cada bloque. Puedes leer en detalle todo lo relativo a Antenas en el libro  Antenas de A. Cardama, L. Jofre, J.M. Rius, S. Blanch, M. Ferrrando (Editorial UPC)._"
   ]
  },
  {
   "cell_type": "markdown",
   "metadata": {},
   "source": [
    "## 1. Importamos paquetes"
   ]
  },
  {
   "cell_type": "markdown",
   "metadata": {},
   "source": [
    "Lo primero es lo primero, importemos los paquetes:"
   ]
  },
  {
   "cell_type": "code",
   "execution_count": null,
   "metadata": {
    "collapsed": false
   },
   "outputs": [],
   "source": []
  },
  {
   "cell_type": "markdown",
   "metadata": {},
   "source": [
    "## 2. Parámetros del problema"
   ]
  },
  {
   "cell_type": "markdown",
   "metadata": {},
   "source": [
    "Los parámetros del problema son los del siguiente bloque, puedes cambiarlos más adelante:"
   ]
  },
  {
   "cell_type": "code",
   "execution_count": null,
   "metadata": {
    "collapsed": true
   },
   "outputs": [],
   "source": [
    "eps_0 = 8.8541878117e-12\n",
    "mu_0 = 1.256637061e-6\n",
    "C = 299792458\n",
    "eta = 120*np.pi"
   ]
  },
  {
   "cell_type": "markdown",
   "metadata": {},
   "source": [
    "## 3. Vector de radiación de un dipolo"
   ]
  },
  {
   "cell_type": "markdown",
   "metadata": {},
   "source": [
    "$$ \\overrightarrow{N} = \\hat{z} 2 I_m \\dfrac{\\cos(k H  \\cos \\theta) - \\cos k H}{k \\ \\sin^2 \\theta} $$"
   ]
  },
  {
   "cell_type": "code",
   "execution_count": null,
   "metadata": {
    "collapsed": true
   },
   "outputs": [],
   "source": []
  },
  {
   "cell_type": "markdown",
   "metadata": {},
   "source": [
    "## 4. Vector Campo Eléctrico"
   ]
  },
  {
   "cell_type": "markdown",
   "metadata": {},
   "source": [
    "$$\n",
    "\\overrightarrow{E} = \\dfrac{-j k \\eta_o}{4 \\pi} \\dfrac{e^{-j k r}}{r} [(\\hat{r} \\times \\overrightarrow{N}) \\times \\hat{r}]\n",
    "$$\n",
    "\n",
    "Como $\\overrightarrow{N}$ solo tiene componente $\\hat{z}$ al realizar el producto vectorial, $\\overrightarrow{E}$ solo tendrá componente $\\hat{\\theta}$. Por lo tanto, el campo eléctrico radiado sería el siguiente:\n",
    "$$\n",
    "\\overrightarrow{E} = \\dfrac{-j k \\eta_o}{4 \\pi} \\dfrac{e^{-j k r}}{r} \\cdot N_z \\cdot \\sin(\\theta) \\cdot \\hat{\\theta}\n",
    "$$"
   ]
  },
  {
   "cell_type": "code",
   "execution_count": null,
   "metadata": {
    "collapsed": true
   },
   "outputs": [],
   "source": []
  },
  {
   "cell_type": "markdown",
   "metadata": {},
   "source": [
    "## 5. Diagrama de Radiación 2D"
   ]
  },
  {
   "cell_type": "code",
   "execution_count": null,
   "metadata": {
    "collapsed": false
   },
   "outputs": [],
   "source": []
  },
  {
   "cell_type": "code",
   "execution_count": null,
   "metadata": {
    "collapsed": false
   },
   "outputs": [],
   "source": []
  },
  {
   "cell_type": "markdown",
   "metadata": {},
   "source": [
    "## 6. Diagrama de Radiación 3D"
   ]
  },
  {
   "cell_type": "code",
   "execution_count": null,
   "metadata": {
    "collapsed": false
   },
   "outputs": [],
   "source": []
  },
  {
   "cell_type": "code",
   "execution_count": null,
   "metadata": {
    "collapsed": false
   },
   "outputs": [],
   "source": []
  }
 ],
 "metadata": {
  "kernelspec": {
   "display_name": "Python 3",
   "language": "python",
   "name": "python3"
  },
  "language_info": {
   "codemirror_mode": {
    "name": "ipython",
    "version": 3
   },
   "file_extension": ".py",
   "mimetype": "text/x-python",
   "name": "python",
   "nbconvert_exporter": "python",
   "pygments_lexer": "ipython3",
   "version": "3.5.1"
  }
 },
 "nbformat": 4,
 "nbformat_minor": 0
}
