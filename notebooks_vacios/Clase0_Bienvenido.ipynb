{
 "cells": [
  {
   "cell_type": "markdown",
   "metadata": {},
   "source": [
    "<img src=\"../static/IEEE_logo.png\" alt=\"IEEE\" style=\"width: 300px;\"/>"
   ]
  },
  {
   "cell_type": "markdown",
   "metadata": {},
   "source": [
    "# Bienvenido al curso de Python para Ingeniería"
   ]
  },
  {
   "cell_type": "markdown",
   "metadata": {},
   "source": [
    "En el [repositorio de GitHub](https://github.com/joseayebenes/Curso-Python), dispones de todo el material que utilizamos durante los cursos para poder __iniciarte desde cero en la programación en Python.__ __Esta guía te indicará los pasos a seguir para que te instales Python, descargues el material y puedas aprender a tu ritmo.__"
   ]
  },
  {
   "cell_type": "markdown",
   "metadata": {},
   "source": [
    "__Nuestra herramienta fundamental de trabajo es el Notebook de IPython__, podrás conocer más acerca de él en la primera clase. Durante el curso te familiarizarás con él y aprenderás a manejarlo (este documento ha sido generado a partir de un notebook)."
   ]
  },
  {
   "cell_type": "markdown",
   "metadata": {},
   "source": [
    "## Pasos a seguir:"
   ]
  },
  {
   "cell_type": "markdown",
   "metadata": {},
   "source": [
    "### 1. Descarga."
   ]
  },
  {
   "cell_type": "markdown",
   "metadata": {},
   "source": [
    "La instalación de Python, el Notebook y todos los paquetes que utilizaremos, por separado puede ser una tarea ardua y agotadora, pero no te preocupes: ¡alguien ha hecho ya el trabajo duro!\n",
    "\n",
    "__[Anaconda](https://store.continuum.io/cshop/anaconda/) es una distribución de Python que recopila muchas de las bibliotecas necesarias en el ámbito de la computación científica__ y desde luego, todas las que necesitaremos en este curso. Además __incluye herramientas para programar en Python, como el Notebook y [Spyder](https://code.google.com/p/spyderlib/)__ (un IDE al estilo de MATLAB)."
   ]
  },
  {
   "cell_type": "markdown",
   "metadata": {},
   "source": [
    "Lo único que necesitas hacer es:\n",
    "\n",
    "* Ir a la [página de descargas de Anaconda](http://continuum.io/downloads).\n",
    "* Seleccionar tu sistema operativo.\n",
    "* Hacer click sobre la opción __I want Python 3.4__ (o 3.X).\n",
    "* y descargar Anaconda."
   ]
  },
  {
   "cell_type": "markdown",
   "metadata": {},
   "source": [
    "<img src=\"../static/download_anaconda.png\" alt=\"Download\" style=\"width: 800px;\"/>"
   ]
  },
  {
   "cell_type": "markdown",
   "metadata": {},
   "source": [
    "### 2. Instalación"
   ]
  },
  {
   "cell_type": "markdown",
   "metadata": {},
   "source": [
    "Consulta las [instrucciones de instalación](http://docs.continuum.io/anaconda/install.html) de Anaconda para tu sistema operativo. En el caso de Windows y OS X, te encontrarás con los típicos instaladores gráficos a los que ya estás acostumbrado. Si te encuentras en Linux, deberás ejectuar el script de instalación desde la consola de comandos, así que recuerda comprobar que tienes bash instalado y asignar permisos de ejecución al script.\n",
    "\n",
    "En caso de que tengas cualquier caso de duda recuerda que __¡los buscadores de internet son tus mejores amigos!__\n",
    "\n",
    "¡Muy bien! ya tienes instalado Python en tu ordenador. Si te encuentras en Windows, desde `Inicio > Anaconda` verás una serie de herramientas de las que ahora dispones ¡no tengas miedo de abrirlas! En el caso de OS X, podrás acceder a un launcher con las mismas herramientas desde la carpeta `anaconda` dentro de tu carpeta personal. En Linux, debido al gran número de combinaciones de distribuciones más escritorios no tendrás dichos accesos directos gráficos (lo que no quiere decir que no puedas crearlos tú a posteriori ;p) pero, como comprobarás, no hacen ninguna falta y no forman parte de nuestra forma de trabajar en el curso.\n",
    "\n",
    "Ahora, vamos a actualizar Anaconda para asegurarnos de que tenemos nuestra distribución de Python con todos sus paquetes asl día para lo que abrimos una ventana de comandos (__Símbolo de sistema en Windows__ o __Terminal__ en OS X) y ejectuamos los siguientes comandos de actualización:\n",
    "\n",
    "```\n",
    "conda update anaconda\n",
    "conda update --all\n",
    "```\n",
    "También es necesario que instales unos paquetes que serán útiles durante el curso, así que en el mismo terminal ejecutamos los siguientes comandos:\n",
    "\n",
    "```\n",
    "conda install jupyter\n",
    "conda install mathjax\n",
    "```\n",
    "\n",
    "Si experimentas cualquier clase de problema durante este proceso, [desinstala tu distribución de Anaconda](http://docs.continuum.io/anaconda/install.html) y vuelve a instalarla donde puedas asegurarte de tener una conexión a internet estable.\n",
    "\n",
    "Ya tenemos nuestra distribución de Python con todos los paquetes que necesitemos (y prácticamente todos los que en un futuro podamos necesitar). ¡Manos a la obra!\n",
    "\n",
    "\n"
   ]
  },
  {
   "cell_type": "markdown",
   "metadata": {},
   "source": [
    "### 3. Descarga el material del curso"
   ]
  },
  {
   "cell_type": "markdown",
   "metadata": {},
   "source": [
    "El material del curso está en GitHub. GitHub es una plataforma para alojar proyectos de software que además proporciona una serie de herramientas para el trabajo en equipo, digamos que es una especie de __red social-herramienta para escribir y compartir código. Tú no necesitarás saber nada sobre GitHub para seguir el curso.__"
   ]
  },
  {
   "cell_type": "markdown",
   "metadata": {},
   "source": [
    "Simplemente ve a [nuestro repositorio](https://github.com/joseayebenes/Curso-Python). En la parte derecha encontrarás un botón como éste: ![](../static/download_zip.png) \n",
    "\n",
    "__Púlsalo, guarda el archivo en tu ordenador y descomprímelo.__"
   ]
  },
  {
   "cell_type": "markdown",
   "metadata": {},
   "source": [
    "### 4. Utiliza el material"
   ]
  },
  {
   "cell_type": "markdown",
   "metadata": {},
   "source": [
    "Para utilizar el material debes __abrir una línea de comandos en la carpeta que has descomprimido__.\n",
    "\n",
    "* En Windows, puedes hacer esto desde el explorador. Primero navega hasta la carpeta y luego usa `shift + clic-derecho` en un espacio vacío de la carpeta  y pulsa sobre `Abrir ventana de comandos aquí`:\n",
    "\n",
    "![](../static/ventana_comandos_windows.png)\n",
    "\n",
    "* En OS X, puedes activar el menú [nuevo terminal en carpeta](http://appleadicto.com/mac/osx/ejecutar-el-terminal-de-os-x-desde-una-carpeta-del-finder/):\n",
    "![](../static/ventana_comandos_mac.png)\n",
    "\n",
    "* En Linux, la totalidad de escritorios disponibles tienen una opción para lanzar un terminal en una determinada carpeta (por ejemplo, el plugin `nautilus-open-terminal` en GNOME o pulsando `F4` dentro de Dolphin en KDE)."
   ]
  },
  {
   "cell_type": "markdown",
   "metadata": {},
   "source": [
    "Se abrirá una línea de comandos, teclea en ella:\n",
    "\n",
    "`conda run jupyter notebook` \n",
    "\n",
    "y pulsa Intro.\n",
    "\n",
    "__¡Es importante que la dirección que aparezca en la línea de comandos sea la correspondiente a la carpeta Curso-Python, o determinados elementos como las imágenes incrustadas no se visualizarán correctamente!__\n",
    "\n",
    "Aparecerán unas cuantas líneas y __se abrirá tu navegador web predefinido. __No hace falta disponer de conexión a Internet__. Lo que está ocurriendo es que _\"tu navegador está mostrando lo que le manda el programa que se está ejecutando desde la línea de comandos\"__ (entiéndelo así ya tendrás tiempo de profundizar si quieres). Así que __no cierres la línea de comandos hasta que termines de usar el notebook y ya lo hayas guardado y cerrado en tu navegador.__"
   ]
  },
  {
   "cell_type": "markdown",
   "metadata": {},
   "source": [
    "En esa ventana de tu navegador puedes moverte por las carpetas y ver los archivos con extensión `.ipynb`. __Ve a la carpeta \n",
    "En esa primera clase se hace una pequeña introducción a Python. Lee el principio con calma__ para saber cómo manejar el Notebook (también puedes usar la ayuda `Help > User Interface Tour` ) y __no tengas miedo de tocar y cambiar cosas a tu antojo__. No vas a romper tu ordenador y en una de malas, siempre puedes volverte a descargar todo de GitHub."
   ]
  },
  {
   "cell_type": "markdown",
   "metadata": {},
   "source": [
    "##### ¡Ya estás listo para empezar!"
   ]
  },
  {
   "cell_type": "markdown",
   "metadata": {},
   "source": [
    "---"
   ]
  },
  {
   "cell_type": "markdown",
   "metadata": {},
   "source": [
    "Este curso ha sido adaptado desde el [Curso AeroPython por Juan Luis Cano Rodriguez y Alejandro Sáez Mollejo](https://github.com/AeroPython/Curso_AeroPython)"
   ]
  }
 ],
 "metadata": {
  "kernelspec": {
   "display_name": "Python 3",
   "language": "python",
   "name": "python3"
  },
  "language_info": {
   "codemirror_mode": {
    "name": "ipython",
    "version": 3
   },
   "file_extension": ".py",
   "mimetype": "text/x-python",
   "name": "python",
   "nbconvert_exporter": "python",
   "pygments_lexer": "ipython3",
   "version": "3.5.1"
  }
 },
 "nbformat": 4,
 "nbformat_minor": 0
}
